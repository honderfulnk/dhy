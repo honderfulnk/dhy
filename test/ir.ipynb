{
 "cells": [
  {
   "cell_type": "code",
   "execution_count": 1,
   "id": "827514c5",
   "metadata": {},
   "outputs": [],
   "source": [
    "import numpy as np\n",
    "import pandas as pd\n",
    "import matplotlib.pyplot as plt\n",
    "import matplotlib.ticker as ticker"
   ]
  },
  {
   "cell_type": "code",
   "execution_count": 2,
   "id": "1d3ac468",
   "metadata": {},
   "outputs": [
    {
     "data": {
      "text/html": [
       "<div>\n",
       "<style scoped>\n",
       "    .dataframe tbody tr th:only-of-type {\n",
       "        vertical-align: middle;\n",
       "    }\n",
       "\n",
       "    .dataframe tbody tr th {\n",
       "        vertical-align: top;\n",
       "    }\n",
       "\n",
       "    .dataframe thead th {\n",
       "        text-align: right;\n",
       "    }\n",
       "</style>\n",
       "<table border=\"1\" class=\"dataframe\">\n",
       "  <thead>\n",
       "    <tr style=\"text-align: right;\">\n",
       "      <th></th>\n",
       "      <th>Grade</th>\n",
       "      <th>Rash</th>\n",
       "      <th>Hypothyroidism</th>\n",
       "      <th>Pruritus</th>\n",
       "      <th>Hyperthyroidism</th>\n",
       "      <th>Amylase increased</th>\n",
       "      <th>Allergic reaction</th>\n",
       "    </tr>\n",
       "  </thead>\n",
       "  <tbody>\n",
       "    <tr>\n",
       "      <th>0</th>\n",
       "      <td>1-2</td>\n",
       "      <td>0.239234</td>\n",
       "      <td>0.277512</td>\n",
       "      <td>0.224880</td>\n",
       "      <td>0.191388</td>\n",
       "      <td>0.086124</td>\n",
       "      <td>0.028708</td>\n",
       "    </tr>\n",
       "    <tr>\n",
       "      <th>1</th>\n",
       "      <td>3-4</td>\n",
       "      <td>0.043062</td>\n",
       "      <td>0.000000</td>\n",
       "      <td>0.023923</td>\n",
       "      <td>0.000000</td>\n",
       "      <td>0.028708</td>\n",
       "      <td>0.004785</td>\n",
       "    </tr>\n",
       "    <tr>\n",
       "      <th>2</th>\n",
       "      <td>1-2</td>\n",
       "      <td>16.000000</td>\n",
       "      <td>49.000000</td>\n",
       "      <td>17.000000</td>\n",
       "      <td>11.000000</td>\n",
       "      <td>3.000000</td>\n",
       "      <td>3.000000</td>\n",
       "    </tr>\n",
       "    <tr>\n",
       "      <th>3</th>\n",
       "      <td>3-4</td>\n",
       "      <td>1.000000</td>\n",
       "      <td>0.000000</td>\n",
       "      <td>1.000000</td>\n",
       "      <td>0.000000</td>\n",
       "      <td>1.000000</td>\n",
       "      <td>1.000000</td>\n",
       "    </tr>\n",
       "    <tr>\n",
       "      <th>4</th>\n",
       "      <td>Si1</td>\n",
       "      <td>33.000000</td>\n",
       "      <td>50.000000</td>\n",
       "      <td>29.000000</td>\n",
       "      <td>31.000000</td>\n",
       "      <td>14.000000</td>\n",
       "      <td>2.000000</td>\n",
       "    </tr>\n",
       "  </tbody>\n",
       "</table>\n",
       "</div>"
      ],
      "text/plain": [
       "  Grade       Rash  Hypothyroidism   Pruritus  Hyperthyroidism  \\\n",
       "0   1-2   0.239234        0.277512   0.224880         0.191388   \n",
       "1   3-4   0.043062        0.000000   0.023923         0.000000   \n",
       "2   1-2  16.000000       49.000000  17.000000        11.000000   \n",
       "3   3-4   1.000000        0.000000   1.000000         0.000000   \n",
       "4   Si1  33.000000       50.000000  29.000000        31.000000   \n",
       "\n",
       "   Amylase increased  Allergic reaction  \n",
       "0           0.086124           0.028708  \n",
       "1           0.028708           0.004785  \n",
       "2           3.000000           3.000000  \n",
       "3           1.000000           1.000000  \n",
       "4          14.000000           2.000000  "
      ]
     },
     "execution_count": 2,
     "metadata": {},
     "output_type": "execute_result"
    }
   ],
   "source": [
    "data  = pd.read_excel(r'M:\\tag\\2304042.xlsx')\n",
    "data.head()"
   ]
  },
  {
   "cell_type": "code",
   "execution_count": 3,
   "id": "cc366930",
   "metadata": {},
   "outputs": [],
   "source": [
    "tick_label = list(data.columns)\n",
    "tick_label.remove('Grade')\n",
    "x = np.arange(len(tick_label))"
   ]
  },
  {
   "cell_type": "code",
   "execution_count": 4,
   "id": "b715fae8",
   "metadata": {},
   "outputs": [],
   "source": [
    "y1 = data.iloc[0,1:].values.tolist()\n",
    "y2 = data.iloc[1,1:].values.tolist()\n",
    "#y3 = data.iloc[2,1:].values.tolist()\n",
    "#y4 = data.iloc[3,1:].values.tolist()\n",
    "#y5 = data.iloc[4,1:].values.tolist()\n",
    "#y6 = data.iloc[5,1:].values.tolist()\n",
    "#y7 = data.iloc[6,1:].values.tolist()\n",
    "#y8 = data.iloc[7,1:].values.tolist()"
   ]
  },
  {
   "cell_type": "code",
   "execution_count": 5,
   "id": "80c30463",
   "metadata": {},
   "outputs": [],
   "source": [
    "\n",
    "\n",
    "bar_with = 0.6 #柱体宽度\n",
    "plt.figure(figsize = (14,6)) #画布大小\n",
    "y_num=np.arange(len(x))\n",
    "plt.xlim(min(y_num)-0.5,max(y_num)+0.75)\n",
    "\n",
    "plt.bar(x + bar_with/2, y1, width = bar_with, #柱体宽度\n",
    "        align = 'center', #x轴上的坐标与柱体对其的位置\n",
    "        color = '#0070ff',\n",
    "        alpha = 0.7, #柱体透明度\n",
    "        label = '1-2')\n",
    "plt.bar(x + bar_with/2,y2,width = bar_with, bottom = y1, #柱体基线的y轴坐标\n",
    "        align = 'center', color = '#85A7E2', alpha = 0.7, label = '3-4')\n",
    "#plt.bar(x[25:],y3[25:],width = bar_with, bottom = np.add(y1,y2)[25:], #柱体基线的y轴坐标\n",
    "#        align = 'center', color = 'red', alpha = 0.6, label = 'Si3')\n",
    "#plt.bar(x[25:],y4[25:],width = bar_with, bottom = np.add(np.add(y1,y2),y3)[25:], #柱体基线的y轴坐标\n",
    "#        align = 'center', color = 'blue', alpha = 0.6, label = 'Si4')\n",
    "\n",
    "#plt.bar(x + bar_with, y3, width = bar_with,\n",
    "#        align = 'center', color = '#ED7D31', alpha = 0.7, label = '1-2')\n",
    "#plt.bar(x + bar_with, y4, width = bar_with, bottom = y3,\n",
    "#        align = 'center', color = '#EAA16F', alpha = 0.7, label = '3-4')\n",
    "#plt.bar(x[25:] + bar_with, y7[25:], width = bar_with, bottom = np.add(y5,y6)[25:],\n",
    "#        align = 'center', color = 'yellow', alpha = 0.6, label = 'Sd3')\n",
    "#plt.bar(x[25:] + bar_with, y8[25:], width = bar_with, bottom = np.add(np.add(y5,y6),y7)[25:],\n",
    "#        align = 'center', color = 'black', alpha = 0.6, label = 'Sd4')\n",
    "\n",
    "#plt.title('月度收支表', fontsize = 10) #设置x轴标题\n",
    "plt.xticks(x + bar_with/2, tick_label, rotation = 0, size = 13) #设置x轴坐标\n",
    "plt.yticks([0,0.05,0.1,0.15,0.2,0.25,0.3],['0','5','10','15','20','25','30'],size = 13)\n",
    "plt.ylabel('Incident, %', fontsize = 13)\n",
    "xpoint=x+bar_with/2\n",
    "ypoint=np.add(y1,y2)\n",
    "for i,j in zip(xpoint,ypoint):\n",
    "    plt.text(i-0.1,j+0.01,'%.1f' % (j*100),fontdict={'fontsize':13})\n",
    "\n",
    "ax = plt.gca()\n",
    "ax.spines['right'].set_color('none')\n",
    "ax.spines['top'].set_color('none')\n",
    "\n",
    "#图例设在图形外面，控制坐标参数\n",
    "plt.legend(loc = 'center', bbox_to_anchor = (0.93, 0.92), ncol=2, columnspacing =1,fontsize = 13,title ='Grade',frameon = 0)\n",
    "plt.savefig(r'M:\\tag\\ir2.pdf', dpi='figure', bbox_inches = 'tight')\n",
    "plt.close()"
   ]
  },
  {
   "cell_type": "code",
   "execution_count": 128,
   "id": "fc24772d",
   "metadata": {},
   "outputs": [
    {
     "data": {
      "text/plain": [
       "14"
      ]
     },
     "execution_count": 128,
     "metadata": {},
     "output_type": "execute_result"
    }
   ],
   "source": [
    "len(y1[25:])"
   ]
  },
  {
   "cell_type": "code",
   "execution_count": null,
   "id": "e32f0847",
   "metadata": {},
   "outputs": [],
   "source": []
  }
 ],
 "metadata": {
  "kernelspec": {
   "display_name": "Python 3 (ipykernel)",
   "language": "python",
   "name": "python3"
  },
  "language_info": {
   "codemirror_mode": {
    "name": "ipython",
    "version": 3
   },
   "file_extension": ".py",
   "mimetype": "text/x-python",
   "name": "python",
   "nbconvert_exporter": "python",
   "pygments_lexer": "ipython3",
   "version": "3.9.12"
  }
 },
 "nbformat": 4,
 "nbformat_minor": 5
}
