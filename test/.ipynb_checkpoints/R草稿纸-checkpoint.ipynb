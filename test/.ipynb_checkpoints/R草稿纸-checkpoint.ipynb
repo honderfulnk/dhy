{
 "cells": [
  {
   "cell_type": "code",
   "execution_count": null,
   "id": "feef6b11",
   "metadata": {},
   "outputs": [],
   "source": []
  }
 ],
 "metadata": {
  "kernelspec": {
   "display_name": "R 3.5.1",
   "language": "R",
   "name": "r351"
  },
  "language_info": {
   "codemirror_mode": "r",
   "file_extension": ".r",
   "mimetype": "text/x-r-source",
   "name": "R",
   "pygments_lexer": "r",
   "version": "3.5.1"
  }
 },
 "nbformat": 4,
 "nbformat_minor": 5
}
