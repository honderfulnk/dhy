{
 "cells": [
  {
   "cell_type": "code",
   "execution_count": 3,
   "id": "8f9a8c9a",
   "metadata": {},
   "outputs": [],
   "source": [
    "import numpy as np\n",
    "import pandas as pd\n",
    "import matplotlib.pyplot as plt\n",
    "import matplotlib.ticker as ticker"
   ]
  },
  {
   "cell_type": "code",
   "execution_count": 4,
   "id": "c701c9c5",
   "metadata": {},
   "outputs": [
    {
     "ename": "FileNotFoundError",
     "evalue": "[Errno 2] No such file or directory: 'M:\\\\tag\\\\230404.xlsx'",
     "output_type": "error",
     "traceback": [
      "\u001b[0;31m---------------------------------------------------------------------------\u001b[0m",
      "\u001b[0;31mFileNotFoundError\u001b[0m                         Traceback (most recent call last)",
      "Cell \u001b[0;32mIn[4], line 1\u001b[0m\n\u001b[0;32m----> 1\u001b[0m data  \u001b[39m=\u001b[39m pd\u001b[39m.\u001b[39;49mread_excel(\u001b[39mr\u001b[39;49m\u001b[39m'\u001b[39;49m\u001b[39mM:\u001b[39;49m\u001b[39m\\\u001b[39;49m\u001b[39mtag\u001b[39;49m\u001b[39m\\\u001b[39;49m\u001b[39m230404.xlsx\u001b[39;49m\u001b[39m'\u001b[39;49m)\n\u001b[1;32m      2\u001b[0m data\u001b[39m.\u001b[39mhead()\n",
      "File \u001b[0;32m~/anaconda3/lib/python3.10/site-packages/pandas/util/_decorators.py:211\u001b[0m, in \u001b[0;36mdeprecate_kwarg.<locals>._deprecate_kwarg.<locals>.wrapper\u001b[0;34m(*args, **kwargs)\u001b[0m\n\u001b[1;32m    209\u001b[0m     \u001b[39melse\u001b[39;00m:\n\u001b[1;32m    210\u001b[0m         kwargs[new_arg_name] \u001b[39m=\u001b[39m new_arg_value\n\u001b[0;32m--> 211\u001b[0m \u001b[39mreturn\u001b[39;00m func(\u001b[39m*\u001b[39;49margs, \u001b[39m*\u001b[39;49m\u001b[39m*\u001b[39;49mkwargs)\n",
      "File \u001b[0;32m~/anaconda3/lib/python3.10/site-packages/pandas/util/_decorators.py:331\u001b[0m, in \u001b[0;36mdeprecate_nonkeyword_arguments.<locals>.decorate.<locals>.wrapper\u001b[0;34m(*args, **kwargs)\u001b[0m\n\u001b[1;32m    325\u001b[0m \u001b[39mif\u001b[39;00m \u001b[39mlen\u001b[39m(args) \u001b[39m>\u001b[39m num_allow_args:\n\u001b[1;32m    326\u001b[0m     warnings\u001b[39m.\u001b[39mwarn(\n\u001b[1;32m    327\u001b[0m         msg\u001b[39m.\u001b[39mformat(arguments\u001b[39m=\u001b[39m_format_argument_list(allow_args)),\n\u001b[1;32m    328\u001b[0m         \u001b[39mFutureWarning\u001b[39;00m,\n\u001b[1;32m    329\u001b[0m         stacklevel\u001b[39m=\u001b[39mfind_stack_level(),\n\u001b[1;32m    330\u001b[0m     )\n\u001b[0;32m--> 331\u001b[0m \u001b[39mreturn\u001b[39;00m func(\u001b[39m*\u001b[39;49margs, \u001b[39m*\u001b[39;49m\u001b[39m*\u001b[39;49mkwargs)\n",
      "File \u001b[0;32m~/anaconda3/lib/python3.10/site-packages/pandas/io/excel/_base.py:482\u001b[0m, in \u001b[0;36mread_excel\u001b[0;34m(io, sheet_name, header, names, index_col, usecols, squeeze, dtype, engine, converters, true_values, false_values, skiprows, nrows, na_values, keep_default_na, na_filter, verbose, parse_dates, date_parser, thousands, decimal, comment, skipfooter, convert_float, mangle_dupe_cols, storage_options)\u001b[0m\n\u001b[1;32m    480\u001b[0m \u001b[39mif\u001b[39;00m \u001b[39mnot\u001b[39;00m \u001b[39misinstance\u001b[39m(io, ExcelFile):\n\u001b[1;32m    481\u001b[0m     should_close \u001b[39m=\u001b[39m \u001b[39mTrue\u001b[39;00m\n\u001b[0;32m--> 482\u001b[0m     io \u001b[39m=\u001b[39m ExcelFile(io, storage_options\u001b[39m=\u001b[39;49mstorage_options, engine\u001b[39m=\u001b[39;49mengine)\n\u001b[1;32m    483\u001b[0m \u001b[39melif\u001b[39;00m engine \u001b[39mand\u001b[39;00m engine \u001b[39m!=\u001b[39m io\u001b[39m.\u001b[39mengine:\n\u001b[1;32m    484\u001b[0m     \u001b[39mraise\u001b[39;00m \u001b[39mValueError\u001b[39;00m(\n\u001b[1;32m    485\u001b[0m         \u001b[39m\"\u001b[39m\u001b[39mEngine should not be specified when passing \u001b[39m\u001b[39m\"\u001b[39m\n\u001b[1;32m    486\u001b[0m         \u001b[39m\"\u001b[39m\u001b[39man ExcelFile - ExcelFile already has the engine set\u001b[39m\u001b[39m\"\u001b[39m\n\u001b[1;32m    487\u001b[0m     )\n",
      "File \u001b[0;32m~/anaconda3/lib/python3.10/site-packages/pandas/io/excel/_base.py:1652\u001b[0m, in \u001b[0;36mExcelFile.__init__\u001b[0;34m(self, path_or_buffer, engine, storage_options)\u001b[0m\n\u001b[1;32m   1650\u001b[0m     ext \u001b[39m=\u001b[39m \u001b[39m\"\u001b[39m\u001b[39mxls\u001b[39m\u001b[39m\"\u001b[39m\n\u001b[1;32m   1651\u001b[0m \u001b[39melse\u001b[39;00m:\n\u001b[0;32m-> 1652\u001b[0m     ext \u001b[39m=\u001b[39m inspect_excel_format(\n\u001b[1;32m   1653\u001b[0m         content_or_path\u001b[39m=\u001b[39;49mpath_or_buffer, storage_options\u001b[39m=\u001b[39;49mstorage_options\n\u001b[1;32m   1654\u001b[0m     )\n\u001b[1;32m   1655\u001b[0m     \u001b[39mif\u001b[39;00m ext \u001b[39mis\u001b[39;00m \u001b[39mNone\u001b[39;00m:\n\u001b[1;32m   1656\u001b[0m         \u001b[39mraise\u001b[39;00m \u001b[39mValueError\u001b[39;00m(\n\u001b[1;32m   1657\u001b[0m             \u001b[39m\"\u001b[39m\u001b[39mExcel file format cannot be determined, you must specify \u001b[39m\u001b[39m\"\u001b[39m\n\u001b[1;32m   1658\u001b[0m             \u001b[39m\"\u001b[39m\u001b[39man engine manually.\u001b[39m\u001b[39m\"\u001b[39m\n\u001b[1;32m   1659\u001b[0m         )\n",
      "File \u001b[0;32m~/anaconda3/lib/python3.10/site-packages/pandas/io/excel/_base.py:1525\u001b[0m, in \u001b[0;36minspect_excel_format\u001b[0;34m(content_or_path, storage_options)\u001b[0m\n\u001b[1;32m   1522\u001b[0m \u001b[39mif\u001b[39;00m \u001b[39misinstance\u001b[39m(content_or_path, \u001b[39mbytes\u001b[39m):\n\u001b[1;32m   1523\u001b[0m     content_or_path \u001b[39m=\u001b[39m BytesIO(content_or_path)\n\u001b[0;32m-> 1525\u001b[0m \u001b[39mwith\u001b[39;00m get_handle(\n\u001b[1;32m   1526\u001b[0m     content_or_path, \u001b[39m\"\u001b[39;49m\u001b[39mrb\u001b[39;49m\u001b[39m\"\u001b[39;49m, storage_options\u001b[39m=\u001b[39;49mstorage_options, is_text\u001b[39m=\u001b[39;49m\u001b[39mFalse\u001b[39;49;00m\n\u001b[1;32m   1527\u001b[0m ) \u001b[39mas\u001b[39;00m handle:\n\u001b[1;32m   1528\u001b[0m     stream \u001b[39m=\u001b[39m handle\u001b[39m.\u001b[39mhandle\n\u001b[1;32m   1529\u001b[0m     stream\u001b[39m.\u001b[39mseek(\u001b[39m0\u001b[39m)\n",
      "File \u001b[0;32m~/anaconda3/lib/python3.10/site-packages/pandas/io/common.py:865\u001b[0m, in \u001b[0;36mget_handle\u001b[0;34m(path_or_buf, mode, encoding, compression, memory_map, is_text, errors, storage_options)\u001b[0m\n\u001b[1;32m    856\u001b[0m         handle \u001b[39m=\u001b[39m \u001b[39mopen\u001b[39m(\n\u001b[1;32m    857\u001b[0m             handle,\n\u001b[1;32m    858\u001b[0m             ioargs\u001b[39m.\u001b[39mmode,\n\u001b[0;32m   (...)\u001b[0m\n\u001b[1;32m    861\u001b[0m             newline\u001b[39m=\u001b[39m\u001b[39m\"\u001b[39m\u001b[39m\"\u001b[39m,\n\u001b[1;32m    862\u001b[0m         )\n\u001b[1;32m    863\u001b[0m     \u001b[39melse\u001b[39;00m:\n\u001b[1;32m    864\u001b[0m         \u001b[39m# Binary mode\u001b[39;00m\n\u001b[0;32m--> 865\u001b[0m         handle \u001b[39m=\u001b[39m \u001b[39mopen\u001b[39;49m(handle, ioargs\u001b[39m.\u001b[39;49mmode)\n\u001b[1;32m    866\u001b[0m     handles\u001b[39m.\u001b[39mappend(handle)\n\u001b[1;32m    868\u001b[0m \u001b[39m# Convert BytesIO or file objects passed with an encoding\u001b[39;00m\n",
      "\u001b[0;31mFileNotFoundError\u001b[0m: [Errno 2] No such file or directory: 'M:\\\\tag\\\\230404.xlsx'"
     ]
    }
   ],
   "source": [
    "data  = pd.read_excel(r'M:\\tag\\230404.xlsx')\n",
    "data.head()"
   ]
  },
  {
   "cell_type": "code",
   "execution_count": null,
   "id": "ae21d7f4",
   "metadata": {},
   "outputs": [],
   "source": [
    "tick_label = list(data.columns)\n",
    "tick_label.remove('Grade')\n",
    "x = np.arange(len(tick_label))"
   ]
  },
  {
   "cell_type": "code",
   "execution_count": null,
   "id": "2cab24fd",
   "metadata": {},
   "outputs": [],
   "source": [
    "y1 = data.iloc[0,1:].values.tolist()\n",
    "y2 = data.iloc[1,1:].values.tolist()\n",
    "y3 = data.iloc[2,1:].values.tolist()\n",
    "y4 = data.iloc[3,1:].values.tolist()\n",
    "y5 = data.iloc[4,1:].values.tolist()\n",
    "y6 = data.iloc[5,1:].values.tolist()\n",
    "y7 = data.iloc[6,1:].values.tolist()\n",
    "y8 = data.iloc[7,1:].values.tolist()"
   ]
  },
  {
   "cell_type": "code",
   "execution_count": null,
   "id": "0486c3e2",
   "metadata": {},
   "outputs": [],
   "source": [
    "plt.figure(1,figsize = (24,4.2)) #画布大小\n",
    "\n",
    "plt.bar(x[0:24], y1[0:24], width = bar_with, #柱体宽度\n",
    "        align = 'center', #x轴上的坐标与柱体对其的位置\n",
    "        color = 'orangered',\n",
    "        alpha = 0.6, #柱体透明度\n",
    "        label = 'Si1')\n",
    "plt.bar(x[0:24],y2[0:24],width = bar_with, bottom = y1[0:24], #柱体基线的y轴坐标\n",
    "        align = 'center', color = 'lightsalmon', alpha = 0.6, label = 'Si2')\n",
    "plt.bar(x[0:24],y3[0:24],width = bar_with, bottom = np.add(y1,y2)[0:24], #柱体基线的y轴坐标\n",
    "        align = 'center', color = 'red', alpha = 0.6, label = 'Si3')\n",
    "plt.bar(x[0:24],y4[0:24],width = bar_with, bottom = np.add(np.add(y1,y2),y3)[0:24], #柱体基线的y轴坐标\n",
    "        align = 'center', color = 'blue', alpha = 0.6, label = 'Si4')\n",
    "\n",
    "plt.bar(x[0:24] + bar_with, y5[0:24], width = bar_with,\n",
    "        align = 'center', color = 'deepskyblue', alpha = 0.6, label = 'Sd1')\n",
    "plt.bar(x[0:24] + bar_with, y6[0:24], width = bar_with, bottom = y5[0:24],\n",
    "        align = 'center', color = 'lightskyblue', alpha = 0.6, label = 'Sd2')\n",
    "plt.bar(x[0:24] + bar_with, y7[0:24], width = bar_with, bottom = np.add(y5,y6)[0:24],\n",
    "        align = 'center', color = 'yellow', alpha = 0.6, label = 'Sd3')\n",
    "plt.bar(x[0:24] + bar_with, y8[0:24], width = bar_with, bottom = np.add(np.add(y5,y6),y7)[0:24],\n",
    "        align = 'center', color = 'black', alpha = 0.6, label = 'Sd4')\n",
    "\n",
    "#plt.title('月度收支表', fontsize = 10) #设置x轴标题\n",
    "plt.xticks(x[0:24] + bar_with/2, tick_label[0:24], rotation = 70, size = 8) #设置x轴坐标\n",
    "plt.savefig(r'M:\\tag\\draw_bar.pdf', dpi='figure', bbox_inches = 'tight')\n",
    "plt.close()\n",
    "\n",
    "\n",
    "\n",
    "\n",
    "bar_with = 0.4 #柱体宽度\n",
    "plt.figure(2,figsize = (24,4.2)) #画布大小\n",
    "\n",
    "plt.bar(x[25:], y1[25:], width = bar_with, #柱体宽度\n",
    "        align = 'center', #x轴上的坐标与柱体对其的位置\n",
    "        color = 'orangered',\n",
    "        alpha = 0.6, #柱体透明度\n",
    "        label = 'Si1')\n",
    "plt.bar(x[25:],y2[25:],width = bar_with, bottom = y1[25:], #柱体基线的y轴坐标\n",
    "        align = 'center', color = 'lightsalmon', alpha = 0.6, label = 'Si2')\n",
    "plt.bar(x[25:],y3[25:],width = bar_with, bottom = np.add(y1,y2)[25:], #柱体基线的y轴坐标\n",
    "        align = 'center', color = 'red', alpha = 0.6, label = 'Si3')\n",
    "plt.bar(x[25:],y4[25:],width = bar_with, bottom = np.add(np.add(y1,y2),y3)[25:], #柱体基线的y轴坐标\n",
    "        align = 'center', color = 'blue', alpha = 0.6, label = 'Si4')\n",
    "\n",
    "plt.bar(x[25:] + bar_with, y5[25:], width = bar_with,\n",
    "        align = 'center', color = 'deepskyblue', alpha = 0.6, label = 'Sd1')\n",
    "plt.bar(x[25:] + bar_with, y6[25:], width = bar_with, bottom = y5[25:],\n",
    "        align = 'center', color = 'lightskyblue', alpha = 0.6, label = 'Sd2')\n",
    "plt.bar(x[25:] + bar_with, y7[25:], width = bar_with, bottom = np.add(y5,y6)[25:],\n",
    "        align = 'center', color = 'yellow', alpha = 0.6, label = 'Sd3')\n",
    "plt.bar(x[25:] + bar_with, y8[25:], width = bar_with, bottom = np.add(np.add(y5,y6),y7)[25:],\n",
    "        align = 'center', color = 'black', alpha = 0.6, label = 'Sd4')\n",
    "\n",
    "#plt.title('月度收支表', fontsize = 10) #设置x轴标题\n",
    "plt.xticks(x[25:] + bar_with/2, tick_label[25:], rotation = 70, size = 8) #设置x轴坐标\n",
    "\n",
    "#图例设在图形外面，控制坐标参数\n",
    "plt.legend(loc = 'center', bbox_to_anchor = (0.6, 0.9), ncol=2)\n",
    "plt.savefig(r'M:\\tag\\draw_bar2.pdf', dpi='figure', bbox_inches = 'tight')\n",
    "plt.close()"
   ]
  },
  {
   "cell_type": "code",
   "execution_count": null,
   "id": "c22fd0c0",
   "metadata": {},
   "outputs": [
    {
     "data": {
      "text/plain": [
       "array([ 52.,   5.,   7., 162., 128., 111., 110., 157., 162., 101., 133.,\n",
       "       141., 150., 130., 128., 117.,  74.,  84.,  79.,  70.,  68.,  58.,\n",
       "        53.,  18., 103.,  58.,  40.,  50.,  47.,  18.,   6., 168., 151.,\n",
       "        68.,  68.,  62.,  49.,  22.,  24.])"
      ]
     },
     "execution_count": 112,
     "metadata": {},
     "output_type": "execute_result"
    }
   ],
   "source": [
    "np.add(y1,y2)\n"
   ]
  },
  {
   "cell_type": "code",
   "execution_count": null,
   "id": "a8404095",
   "metadata": {},
   "outputs": [
    {
     "data": {
      "text/plain": [
       "[6,\n",
       " 1,\n",
       " 3.0,\n",
       " 78,\n",
       " 38,\n",
       " 78,\n",
       " 42,\n",
       " 76,\n",
       " 96,\n",
       " 42,\n",
       " 107,\n",
       " 112,\n",
       " 100,\n",
       " 90,\n",
       " 83,\n",
       " 92,\n",
       " 36,\n",
       " 68,\n",
       " 62,\n",
       " 44,\n",
       " 53,\n",
       " 51,\n",
       " 44,\n",
       " 9,\n",
       " 63,\n",
       " 50,\n",
       " 31,\n",
       " 33,\n",
       " 29,\n",
       " 14,\n",
       " 2,\n",
       " 126,\n",
       " 136,\n",
       " 60,\n",
       " 49,\n",
       " 58,\n",
       " 44,\n",
       " 16,\n",
       " 21]"
      ]
     },
     "execution_count": 113,
     "metadata": {},
     "output_type": "execute_result"
    }
   ],
   "source": [
    "y1"
   ]
  },
  {
   "cell_type": "code",
   "execution_count": null,
   "id": "46278538",
   "metadata": {},
   "outputs": [
    {
     "data": {
      "text/plain": [
       "[46,\n",
       " 4,\n",
       " 4.0,\n",
       " 84,\n",
       " 90,\n",
       " 33,\n",
       " 68,\n",
       " 81,\n",
       " 66,\n",
       " 59,\n",
       " 26,\n",
       " 29,\n",
       " 50,\n",
       " 40,\n",
       " 45,\n",
       " 25,\n",
       " 38,\n",
       " 16,\n",
       " 17,\n",
       " 26,\n",
       " 15,\n",
       " 7,\n",
       " 9,\n",
       " 9,\n",
       " 40,\n",
       " 8,\n",
       " 9,\n",
       " 17,\n",
       " 18,\n",
       " 4,\n",
       " 4,\n",
       " 42,\n",
       " 15,\n",
       " 8,\n",
       " 19,\n",
       " 4,\n",
       " 5,\n",
       " 6,\n",
       " 3]"
      ]
     },
     "execution_count": 114,
     "metadata": {},
     "output_type": "execute_result"
    }
   ],
   "source": [
    "y2"
   ]
  },
  {
   "cell_type": "code",
   "execution_count": null,
   "id": "47ae7092",
   "metadata": {},
   "outputs": [
    {
     "ename": "TypeError",
     "evalue": "return arrays must be of ArrayType",
     "output_type": "error",
     "traceback": [
      "\u001b[1;31m---------------------------------------------------------------------------\u001b[0m",
      "\u001b[1;31mTypeError\u001b[0m                                 Traceback (most recent call last)",
      "Input \u001b[1;32mIn [116]\u001b[0m, in \u001b[0;36m<cell line: 1>\u001b[1;34m()\u001b[0m\n\u001b[1;32m----> 1\u001b[0m \u001b[43mnp\u001b[49m\u001b[38;5;241;43m.\u001b[39;49m\u001b[43madd\u001b[49m\u001b[43m(\u001b[49m\u001b[43my1\u001b[49m\u001b[43m,\u001b[49m\u001b[43my2\u001b[49m\u001b[43m,\u001b[49m\u001b[43my3\u001b[49m\u001b[43m)\u001b[49m\n",
      "\u001b[1;31mTypeError\u001b[0m: return arrays must be of ArrayType"
     ]
    }
   ],
   "source": [
    "np.add(y1,y2,y3)"
   ]
  },
  {
   "cell_type": "code",
   "execution_count": null,
   "id": "d6105628",
   "metadata": {},
   "outputs": [],
   "source": []
  }
 ],
 "metadata": {
  "kernelspec": {
   "display_name": "Python 3 (ipykernel)",
   "language": "python",
   "name": "python3"
  },
  "language_info": {
   "codemirror_mode": {
    "name": "ipython",
    "version": 3
   },
   "file_extension": ".py",
   "mimetype": "text/x-python",
   "name": "python",
   "nbconvert_exporter": "python",
   "pygments_lexer": "ipython3",
   "version": "3.10.9"
  }
 },
 "nbformat": 4,
 "nbformat_minor": 5
}
