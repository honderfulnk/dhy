{
 "cells": [
  {
   "cell_type": "code",
   "execution_count": 1,
   "id": "827514c5",
   "metadata": {},
   "outputs": [],
   "source": [
    "import numpy as np\n",
    "import pandas as pd\n",
    "import matplotlib.pyplot as plt\n",
    "import matplotlib.ticker as ticker"
   ]
  },
  {
   "cell_type": "code",
   "execution_count": 2,
   "id": "1d3ac468",
   "metadata": {},
   "outputs": [
    {
     "data": {
      "text/html": [
       "<div>\n",
       "<style scoped>\n",
       "    .dataframe tbody tr th:only-of-type {\n",
       "        vertical-align: middle;\n",
       "    }\n",
       "\n",
       "    .dataframe tbody tr th {\n",
       "        vertical-align: top;\n",
       "    }\n",
       "\n",
       "    .dataframe thead th {\n",
       "        text-align: right;\n",
       "    }\n",
       "</style>\n",
       "<table border=\"1\" class=\"dataframe\">\n",
       "  <thead>\n",
       "    <tr style=\"text-align: right;\">\n",
       "      <th></th>\n",
       "      <th>Grade</th>\n",
       "      <th>Dry mouth</th>\n",
       "      <th>Deafness or otitis</th>\n",
       "      <th>Dysphagia</th>\n",
       "      <th>Dysgeusia</th>\n",
       "      <th>Neck tissue damage</th>\n",
       "      <th>Dental disorders</th>\n",
       "      <th>Peripheral neuropathy</th>\n",
       "    </tr>\n",
       "  </thead>\n",
       "  <tbody>\n",
       "    <tr>\n",
       "      <th>0</th>\n",
       "      <td>1-2</td>\n",
       "      <td>0.722488</td>\n",
       "      <td>0.325359</td>\n",
       "      <td>0.325359</td>\n",
       "      <td>0.296651</td>\n",
       "      <td>0.234450</td>\n",
       "      <td>0.105263</td>\n",
       "      <td>0.114833</td>\n",
       "    </tr>\n",
       "    <tr>\n",
       "      <th>1</th>\n",
       "      <td>3-4</td>\n",
       "      <td>0.004785</td>\n",
       "      <td>0.028708</td>\n",
       "      <td>0.000000</td>\n",
       "      <td>0.000000</td>\n",
       "      <td>0.000000</td>\n",
       "      <td>0.023923</td>\n",
       "      <td>0.000000</td>\n",
       "    </tr>\n",
       "    <tr>\n",
       "      <th>2</th>\n",
       "      <td>1-2</td>\n",
       "      <td>0.700935</td>\n",
       "      <td>0.327103</td>\n",
       "      <td>0.322430</td>\n",
       "      <td>0.303738</td>\n",
       "      <td>0.228972</td>\n",
       "      <td>0.126168</td>\n",
       "      <td>0.098131</td>\n",
       "    </tr>\n",
       "    <tr>\n",
       "      <th>3</th>\n",
       "      <td>3-4</td>\n",
       "      <td>0.000000</td>\n",
       "      <td>0.014019</td>\n",
       "      <td>0.000000</td>\n",
       "      <td>0.000000</td>\n",
       "      <td>0.000000</td>\n",
       "      <td>0.018692</td>\n",
       "      <td>0.000000</td>\n",
       "    </tr>\n",
       "    <tr>\n",
       "      <th>4</th>\n",
       "      <td>Si1</td>\n",
       "      <td>136.000000</td>\n",
       "      <td>49.000000</td>\n",
       "      <td>60.000000</td>\n",
       "      <td>58.000000</td>\n",
       "      <td>44.000000</td>\n",
       "      <td>16.000000</td>\n",
       "      <td>21.000000</td>\n",
       "    </tr>\n",
       "  </tbody>\n",
       "</table>\n",
       "</div>"
      ],
      "text/plain": [
       "  Grade   Dry mouth  Deafness or otitis  Dysphagia  Dysgeusia  \\\n",
       "0   1-2    0.722488            0.325359   0.325359   0.296651   \n",
       "1   3-4    0.004785            0.028708   0.000000   0.000000   \n",
       "2   1-2    0.700935            0.327103   0.322430   0.303738   \n",
       "3   3-4    0.000000            0.014019   0.000000   0.000000   \n",
       "4   Si1  136.000000           49.000000  60.000000  58.000000   \n",
       "\n",
       "   Neck tissue damage  Dental disorders  Peripheral neuropathy  \n",
       "0            0.234450          0.105263               0.114833  \n",
       "1            0.000000          0.023923               0.000000  \n",
       "2            0.228972          0.126168               0.098131  \n",
       "3            0.000000          0.018692               0.000000  \n",
       "4           44.000000         16.000000              21.000000  "
      ]
     },
     "execution_count": 2,
     "metadata": {},
     "output_type": "execute_result"
    }
   ],
   "source": [
    "data  = pd.read_excel(r'M:\\tag\\2304043.xlsx')\n",
    "data.head()"
   ]
  },
  {
   "cell_type": "code",
   "execution_count": 3,
   "id": "cc366930",
   "metadata": {},
   "outputs": [],
   "source": [
    "tick_label = list(data.columns)\n",
    "tick_label.remove('Grade')\n",
    "x = np.arange(len(tick_label))"
   ]
  },
  {
   "cell_type": "code",
   "execution_count": 4,
   "id": "b715fae8",
   "metadata": {},
   "outputs": [],
   "source": [
    "y1 = data.iloc[0,1:].values.tolist()\n",
    "y2 = data.iloc[1,1:].values.tolist()\n",
    "y3 = data.iloc[2,1:].values.tolist()\n",
    "y4 = data.iloc[3,1:].values.tolist()\n",
    "#y5 = data.iloc[4,1:].values.tolist()\n",
    "#y6 = data.iloc[5,1:].values.tolist()\n",
    "#y7 = data.iloc[6,1:].values.tolist()\n",
    "#y8 = data.iloc[7,1:].values.tolist()"
   ]
  },
  {
   "cell_type": "code",
   "execution_count": 5,
   "id": "80c30463",
   "metadata": {},
   "outputs": [],
   "source": [
    "\n",
    "\n",
    "bar_with = 0.3 #柱体宽度\n",
    "plt.figure(figsize = (16,6)) #画布大小\n",
    "y_num=np.arange(len(x))\n",
    "plt.xlim(min(y_num)-0.5,max(y_num)+0.75)\n",
    "\n",
    "plt.bar(x, y1, width = bar_with, #柱体宽度\n",
    "        align = 'center', #x轴上的坐标与柱体对其的位置\n",
    "        color = '#0070ff',\n",
    "        alpha = 0.7, #柱体透明度\n",
    "        label = '1-2')\n",
    "plt.bar(x,y2,width = bar_with, bottom = y1, #柱体基线的y轴坐标\n",
    "        align = 'center', color = '#85A7E2', alpha = 0.7, label = '1-2')\n",
    "#plt.bar(x[25:],y3[25:],width = bar_with, bottom = np.add(y1,y2)[25:], #柱体基线的y轴坐标\n",
    "#        align = 'center', color = 'red', alpha = 0.6, label = 'Si3')\n",
    "#plt.bar(x[25:],y4[25:],width = bar_with, bottom = np.add(np.add(y1,y2),y3)[25:], #柱体基线的y轴坐标\n",
    "#        align = 'center', color = 'blue', alpha = 0.6, label = 'Si4')\n",
    "\n",
    "plt.bar(x + bar_with, y3, width = bar_with,\n",
    "        align = 'center', color = '#FF7100', alpha = 0.7, label = '3-4')\n",
    "plt.bar(x + bar_with, y4, width = bar_with, bottom = y3,\n",
    "        align = 'center', color = '#EAA16F', alpha = 0.7, label = '3-4')\n",
    "#plt.bar(x[25:] + bar_with, y7[25:], width = bar_with, bottom = np.add(y5,y6)[25:],\n",
    "#        align = 'center', color = 'yellow', alpha = 0.6, label = 'Sd3')\n",
    "#plt.bar(x[25:] + bar_with, y8[25:], width = bar_with, bottom = np.add(np.add(y5,y6),y7)[25:],\n",
    "#        align = 'center', color = 'black', alpha = 0.6, label = 'Sd4')\n",
    "\n",
    "#plt.title('月度收支表', fontsize = 10) #设置x轴标题\n",
    "plt.xticks(x + bar_with/2, tick_label, rotation = 0, size = 12) #设置x轴坐标\n",
    "plt.yticks([0,0.1,0.2,0.3,0.4,0.5,0.6,0.7,0.8],['0','10','20','30','40','50','60','70','80'],size = 12)\n",
    "plt.ylabel('Incident, %', fontsize = 12)\n",
    "xpoint=np.append(x,x+bar_with)\n",
    "ypoint=np.add(y1+y3,y2+y4)\n",
    "for i,j in zip(xpoint,ypoint):\n",
    "    plt.text(i-0.1,j+0.02,'%.1f' % (j*100),fontdict={'fontsize':12})\n",
    "\n",
    "ax = plt.gca()\n",
    "ax.spines['right'].set_color('none')\n",
    "ax.spines['top'].set_color('none')\n",
    "\n",
    "#图例设在图形外面，控制坐标参数\n",
    "plt.legend(loc = 'center', bbox_to_anchor = (0.93, 0.88), ncol=2, columnspacing =1,fontsize = 12, title ='Grade',frameon = 0)\n",
    "plt.savefig(r'M:\\tag\\late2.pdf', dpi='figure', bbox_inches = 'tight')\n",
    "plt.close()"
   ]
  },
  {
   "cell_type": "code",
   "execution_count": 128,
   "id": "fc24772d",
   "metadata": {},
   "outputs": [
    {
     "data": {
      "text/plain": [
       "14"
      ]
     },
     "execution_count": 128,
     "metadata": {},
     "output_type": "execute_result"
    }
   ],
   "source": [
    "len(y1[25:])"
   ]
  },
  {
   "cell_type": "code",
   "execution_count": null,
   "id": "e32f0847",
   "metadata": {},
   "outputs": [],
   "source": []
  }
 ],
 "metadata": {
  "kernelspec": {
   "display_name": "Python 3 (ipykernel)",
   "language": "python",
   "name": "python3"
  },
  "language_info": {
   "codemirror_mode": {
    "name": "ipython",
    "version": 3
   },
   "file_extension": ".py",
   "mimetype": "text/x-python",
   "name": "python",
   "nbconvert_exporter": "python",
   "pygments_lexer": "ipython3",
   "version": "3.9.12"
  }
 },
 "nbformat": 4,
 "nbformat_minor": 5
}
